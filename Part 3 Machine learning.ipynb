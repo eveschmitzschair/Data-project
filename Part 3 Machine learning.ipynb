{
 "cells": [
  {
   "cell_type": "markdown",
   "id": "fe13149f",
   "metadata": {},
   "source": [
    "# Part 3: Machine learning"
   ]
  },
  {
   "cell_type": "markdown",
   "id": "0f6401b1",
   "metadata": {},
   "source": [
    "## Prediction of the prices for adults "
   ]
  },
  {
   "cell_type": "code",
   "execution_count": 110,
   "id": "31357af0",
   "metadata": {},
   "outputs": [],
   "source": [
    "import numpy as np\n",
    "import pandas as pd\n",
    "import itertools\n",
    "import seaborn as sns\n",
    "import matplotlib.pyplot as plt\n",
    "from sklearn.compose import ColumnTransformer\n",
    "from sklearn.preprocessing import OneHotEncoder\n",
    "from sklearn.model_selection import train_test_split\n",
    "from sklearn.linear_model import LinearRegression\n",
    "from sklearn.metrics import mean_squared_error, r2_score\n",
    "from sklearn.tree import DecisionTreeRegressor"
   ]
  },
  {
   "cell_type": "markdown",
   "id": "f77ddaa9",
   "metadata": {},
   "source": [
    "We are going here to import the data that we have collected from de webscrapping done previously."
   ]
  },
  {
   "cell_type": "code",
   "execution_count": 111,
   "id": "cbc74e44",
   "metadata": {},
   "outputs": [
    {
     "data": {
      "text/html": [
       "<div>\n",
       "<style scoped>\n",
       "    .dataframe tbody tr th:only-of-type {\n",
       "        vertical-align: middle;\n",
       "    }\n",
       "\n",
       "    .dataframe tbody tr th {\n",
       "        vertical-align: top;\n",
       "    }\n",
       "\n",
       "    .dataframe thead th {\n",
       "        text-align: right;\n",
       "    }\n",
       "</style>\n",
       "<table border=\"1\" class=\"dataframe\">\n",
       "  <thead>\n",
       "    <tr style=\"text-align: right;\">\n",
       "      <th></th>\n",
       "      <th>Name</th>\n",
       "      <th>Type</th>\n",
       "      <th>City</th>\n",
       "      <th>Adults</th>\n",
       "      <th>Children</th>\n",
       "      <th>Latitude</th>\n",
       "      <th>Longitude</th>\n",
       "    </tr>\n",
       "  </thead>\n",
       "  <tbody>\n",
       "    <tr>\n",
       "      <th>0</th>\n",
       "      <td>Abbaye de Maredsous et Le Saint-Joseph</td>\n",
       "      <td>Abbeys and religious monuments</td>\n",
       "      <td>Denée</td>\n",
       "      <td>0.0</td>\n",
       "      <td>0.0</td>\n",
       "      <td>47.378864</td>\n",
       "      <td>-0.607726</td>\n",
       "    </tr>\n",
       "    <tr>\n",
       "      <th>1</th>\n",
       "      <td>Abbaye d'Aulne</td>\n",
       "      <td>Abbeys and religious monuments</td>\n",
       "      <td>Gozée</td>\n",
       "      <td>5.0</td>\n",
       "      <td>1.0</td>\n",
       "      <td>50.333228</td>\n",
       "      <td>4.351559</td>\n",
       "    </tr>\n",
       "    <tr>\n",
       "      <th>2</th>\n",
       "      <td>Hôpital Notre-Dame à la Rose</td>\n",
       "      <td>Abbeys and religious monuments</td>\n",
       "      <td>Lessines</td>\n",
       "      <td>13.0</td>\n",
       "      <td>8.0</td>\n",
       "      <td>50.712304</td>\n",
       "      <td>3.830113</td>\n",
       "    </tr>\n",
       "    <tr>\n",
       "      <th>3</th>\n",
       "      <td>Musée de la Vie wallonne</td>\n",
       "      <td>Abbeys and religious monuments</td>\n",
       "      <td>Liège</td>\n",
       "      <td>7.0</td>\n",
       "      <td>5.0</td>\n",
       "      <td>50.645094</td>\n",
       "      <td>5.573611</td>\n",
       "    </tr>\n",
       "    <tr>\n",
       "      <th>4</th>\n",
       "      <td>Trésor de la Collégiale Ste-Waudru</td>\n",
       "      <td>Abbeys and religious monuments</td>\n",
       "      <td>Mons</td>\n",
       "      <td>4.0</td>\n",
       "      <td>2.0</td>\n",
       "      <td>50.454957</td>\n",
       "      <td>3.951958</td>\n",
       "    </tr>\n",
       "  </tbody>\n",
       "</table>\n",
       "</div>"
      ],
      "text/plain": [
       "                                     Name                            Type  \\\n",
       "0  Abbaye de Maredsous et Le Saint-Joseph  Abbeys and religious monuments   \n",
       "1                          Abbaye d'Aulne  Abbeys and religious monuments   \n",
       "2            Hôpital Notre-Dame à la Rose  Abbeys and religious monuments   \n",
       "3                Musée de la Vie wallonne  Abbeys and religious monuments   \n",
       "4      Trésor de la Collégiale Ste-Waudru  Abbeys and religious monuments   \n",
       "\n",
       "       City  Adults  Children   Latitude  Longitude  \n",
       "0     Denée     0.0       0.0  47.378864  -0.607726  \n",
       "1    Gozée      5.0       1.0  50.333228   4.351559  \n",
       "2  Lessines    13.0       8.0  50.712304   3.830113  \n",
       "3     Liège     7.0       5.0  50.645094   5.573611  \n",
       "4      Mons     4.0       2.0  50.454957   3.951958  "
      ]
     },
     "execution_count": 111,
     "metadata": {},
     "output_type": "execute_result"
    }
   ],
   "source": [
    "df=pd.read_excel(\"webscraping.xlsx\")\n",
    "df.head()"
   ]
  },
  {
   "cell_type": "code",
   "execution_count": 112,
   "id": "dcaf9c56",
   "metadata": {
    "scrolled": false
   },
   "outputs": [
    {
     "name": "stdout",
     "output_type": "stream",
     "text": [
      "Name          object\n",
      "Type          object\n",
      "City          object\n",
      "Adults       float64\n",
      "Children     float64\n",
      "Latitude     float64\n",
      "Longitude    float64\n",
      "dtype: object\n"
     ]
    }
   ],
   "source": [
    "print(df.dtypes)"
   ]
  },
  {
   "cell_type": "markdown",
   "id": "cb4cd9cc",
   "metadata": {},
   "source": [
    "In order to do a regression, we should see if the prices of adults or children are correlated. If there are, we should include prices for children in the regression for the prices of adults and inversely."
   ]
  },
  {
   "cell_type": "code",
   "execution_count": 113,
   "id": "7730cd16",
   "metadata": {
    "scrolled": false
   },
   "outputs": [
    {
     "data": {
      "image/png": "[encoded data removed]",
      "text/plain": [
       "<Figure size 640x480 with 2 Axes>"
      ]
     },
     "metadata": {},
     "output_type": "display_data"
    }
   ],
   "source": [
    "Num_cols = ['Adults', 'Children']\n",
    "corr_matrix = df[Num_cols].corr()\n",
    "sns.heatmap(corr_matrix, annot=True, cmap='coolwarm', square=True)\n",
    "plt.title('Correlation Matrix (Numerical Variables)')\n",
    "plt.show()"
   ]
  },
  {
   "cell_type": "markdown",
   "id": "ff8abbf2",
   "metadata": {},
   "source": [
    "We see that there is a correlation of 0.87 between the prices of adults and children. This correlation of 0.87 suggests a strong positive relationship between the two variables and we should therefore include this in the following regression."
   ]
  },
  {
   "cell_type": "markdown",
   "id": "e4c4c524",
   "metadata": {},
   "source": [
    "Let's thus define the  first variables of the first regression on the adults prices. We will here not include the variable of the prices of children. The prices of adults will here only depends on the city and the type of attractions."
   ]
  },
  {
   "cell_type": "code",
   "execution_count": 114,
   "id": "d737908e",
   "metadata": {},
   "outputs": [],
   "source": [
    "X = df[['Type', 'City']]\n",
    "y = df['Adults']"
   ]
  },
  {
   "cell_type": "code",
   "execution_count": 115,
   "id": "68636344",
   "metadata": {},
   "outputs": [],
   "source": [
    "ct = ColumnTransformer(\n",
    "    transformers=[('encoder', OneHotEncoder(), [0, 1])],\n",
    "    remainder='passthrough'\n",
    ")\n",
    "X = ct.fit_transform(X)"
   ]
  },
  {
   "cell_type": "code",
   "execution_count": 116,
   "id": "62124d3a",
   "metadata": {},
   "outputs": [],
   "source": [
    "X_train, X_test, y_train, y_test = train_test_split(X, y, test_size=0.2, random_state=42)"
   ]
  },
  {
   "cell_type": "code",
   "execution_count": 117,
   "id": "83a731e5",
   "metadata": {},
   "outputs": [
    {
     "data": {
      "text/plain": [
       "LinearRegression()"
      ]
     },
     "execution_count": 117,
     "metadata": {},
     "output_type": "execute_result"
    }
   ],
   "source": [
    "model = LinearRegression()\n",
    "model.fit(X_train, y_train)"
   ]
  },
  {
   "cell_type": "code",
   "execution_count": 118,
   "id": "6c48f70d",
   "metadata": {},
   "outputs": [],
   "source": [
    "y_train_pred = model.predict(X_train)\n",
    "y_test_pred = model.predict(X_test)"
   ]
  },
  {
   "cell_type": "code",
   "execution_count": 119,
   "id": "303ef3d9",
   "metadata": {},
   "outputs": [
    {
     "name": "stdout",
     "output_type": "stream",
     "text": [
      "               City                            Type  \\\n",
      "0             Denée  Abbeys and religious monuments   \n",
      "1            Gozée   Abbeys and religious monuments   \n",
      "2          Lessines  Abbeys and religious monuments   \n",
      "3             Liège  Abbeys and religious monuments   \n",
      "4              Mons  Abbeys and religious monuments   \n",
      "...             ...                             ...   \n",
      "2701  Vieux-Genappe                          UNESCO   \n",
      "2702       Waterloo                          UNESCO   \n",
      "2703           Coo                           UNESCO   \n",
      "2704       Dochamps                          UNESCO   \n",
      "2705     Houffalize                          UNESCO   \n",
      "\n",
      "      Predicted Adults Prices with model 1  \n",
      "0                                -0.418550  \n",
      "1                                 5.000050  \n",
      "2                                13.000061  \n",
      "3                                 5.467915  \n",
      "4                                 6.787546  \n",
      "...                                    ...  \n",
      "2701                              2.395812  \n",
      "2702                              7.395819  \n",
      "2703                              7.505723  \n",
      "2704                             -3.830482  \n",
      "2705                             -0.330477  \n",
      "\n",
      "[2706 rows x 3 columns]\n"
     ]
    }
   ],
   "source": [
    "unique_types = df['Type'].unique()\n",
    "unique_cities = df['City'].unique()\n",
    "combinations = list(itertools.product(unique_types, unique_cities))\n",
    "predict_df_adults = pd.DataFrame(combinations, columns=['Type', 'City'])\n",
    "predict_data = ct.transform(predict_df_adults)\n",
    "predicted_prices = model.predict(predict_data)\n",
    "predict_df_adults['Predicted Adults Prices with model 1'] = predicted_prices\n",
    "\n",
    "predict_df_adults1 = predict_df_adults[['City', 'Type', 'Predicted Adults Prices with model 1']]\n",
    "\n",
    "print(predict_df_adults1)"
   ]
  },
  {
   "cell_type": "markdown",
   "id": "96b07fba",
   "metadata": {},
   "source": [
    "We have then predicted the prices for the adults based on the city and the type of activity. But is this model a good fitting and does it gives good predictions ? We will then do some tests to assess, or not, of the results of the model."
   ]
  },
  {
   "cell_type": "code",
   "execution_count": 120,
   "id": "63f333f5",
   "metadata": {
    "scrolled": true
   },
   "outputs": [
    {
     "name": "stdout",
     "output_type": "stream",
     "text": [
      "Train RMSE: 2.6178982513545743\n",
      "Test RMSE: 7.148754182537648\n",
      "R-squared: 0.3383790511214788\n"
     ]
    }
   ],
   "source": [
    "train_rmse = mean_squared_error(y_train, y_train_pred, squared=False)\n",
    "test_rmse = mean_squared_error(y_test, y_test_pred, squared=False)\n",
    "r2 = r2_score(y_test, y_test_pred)\n",
    "\n",
    "print(\"Train RMSE:\", train_rmse)\n",
    "print(\"Test RMSE:\", test_rmse)\n",
    "print(\"R-squared:\", r2)"
   ]
  },
  {
   "cell_type": "markdown",
   "id": "8a6a2e74",
   "metadata": {},
   "source": [
    "The R-squared value is a measure of how well the regression model fits the data. Here, the R-squared value of 0.33 indicates that approximately 33% of the variance in the dependent variable is explained by the independent variables. There is so a portion of the model which remains unexplained. Then, the RMSE measures the average prediction error of a regression model. Here, the train RMSE of 2.61 indicates that, on average, the predictions of the model on the training data are off by approximately 2.61 units. The test RMSE of 7.14 indicates that, on average, the predictions on the test data are off by approximately 7.14 units. A lower RMSE value indicates better predictive performance, so the train RMSE being lower than the test RMSE suggests that the model may be slightly overfitting the training data and not generalizing as well to the test data. Overall, the performance of the model seems to be moderate."
   ]
  },
  {
   "cell_type": "markdown",
   "id": "c2854cd4",
   "metadata": {},
   "source": [
    "Here, we can predict one price for a precise type of activity and a precise city. This could be useful if we don't want to search in all the predictions."
   ]
  },
  {
   "cell_type": "code",
   "execution_count": 121,
   "id": "4c64c40f",
   "metadata": {
    "scrolled": true
   },
   "outputs": [
    {
     "name": "stdout",
     "output_type": "stream",
     "text": [
      "Predicted Price for Adults: [9.53991914]\n"
     ]
    },
    {
     "name": "stderr",
     "output_type": "stream",
     "text": [
      "C:\\Users\\flori\\anaconda3\\lib\\site-packages\\sklearn\\base.py:450: UserWarning: X does not have valid feature names, but OneHotEncoder was fitted with feature names\n",
      "  warnings.warn(\n"
     ]
    }
   ],
   "source": [
    "new_data = [['Art', 'Bruxelles']]\n",
    "new_data = ct.transform(new_data)\n",
    "predicted_price = model.predict(new_data)\n",
    "print(\"Predicted Price for Adults:\", predicted_price)"
   ]
  },
  {
   "cell_type": "markdown",
   "id": "f543111e",
   "metadata": {},
   "source": [
    "We will then do a scatter plot of predicted price for adults versus actual price for adults. This can provide insights into the performance and accuracy of the regression model."
   ]
  },
  {
   "cell_type": "code",
   "execution_count": 122,
   "id": "5abf27f1",
   "metadata": {
    "scrolled": false
   },
   "outputs": [
    {
     "data": {
      "image/png": "[encoded data removed]",
      "text/plain": [
       "<Figure size 640x480 with 1 Axes>"
      ]
     },
     "metadata": {},
     "output_type": "display_data"
    }
   ],
   "source": [
    "plt.scatter(y_test, y_test_pred)\n",
    "plt.plot([min(y_test), max(y_test)], [min(y_test), max(y_test)], color='red', linestyle='--')\n",
    "plt.xlabel('Actual Price for Adults')\n",
    "plt.ylabel('Predicted Price for Adults')\n",
    "plt.title('Actual vs Predicted Prices for Adults')\n",
    "plt.show()"
   ]
  },
  {
   "cell_type": "markdown",
   "id": "315a5b6a",
   "metadata": {},
   "source": [
    "We can see that some points are closer to the diagonal line than other. The points close to this diagonal indicates that the model's predictions are close to the actual values. However, we also have points with a significant deviation from the diagonal line, it shows the error that we have with some prediction of the prices."
   ]
  },
  {
   "cell_type": "markdown",
   "id": "accea8fd",
   "metadata": {},
   "source": [
    "Let's now do the second regression. We will add here the prices of children in the regression in order to have more information in our model. We add the prices of children because we have seen that there is a moderate positive relationship between the two variables. Let's see the changes brought by this addition of variable in the model."
   ]
  },
  {
   "cell_type": "code",
   "execution_count": 123,
   "id": "6710e7ee",
   "metadata": {},
   "outputs": [],
   "source": [
    "X = df[['Type', 'City', 'Children']]\n",
    "y = df['Adults']"
   ]
  },
  {
   "cell_type": "code",
   "execution_count": 124,
   "id": "beab34f0",
   "metadata": {},
   "outputs": [],
   "source": [
    "ct = ColumnTransformer(\n",
    "    transformers=[('encoder', OneHotEncoder(), [0, 1])],\n",
    "    remainder='passthrough'\n",
    ")\n",
    "X = ct.fit_transform(X)"
   ]
  },
  {
   "cell_type": "code",
   "execution_count": 125,
   "id": "faa991a3",
   "metadata": {},
   "outputs": [],
   "source": [
    "X_train, X_test, y_train, y_test = train_test_split(X, y, test_size=0.2, random_state=42)"
   ]
  },
  {
   "cell_type": "code",
   "execution_count": 126,
   "id": "2f6cdabb",
   "metadata": {},
   "outputs": [
    {
     "data": {
      "text/plain": [
       "LinearRegression()"
      ]
     },
     "execution_count": 126,
     "metadata": {},
     "output_type": "execute_result"
    }
   ],
   "source": [
    "model = LinearRegression()\n",
    "model.fit(X_train, y_train)"
   ]
  },
  {
   "cell_type": "code",
   "execution_count": 127,
   "id": "36ecff93",
   "metadata": {},
   "outputs": [],
   "source": [
    "y_train_pred = model.predict(X_train)\n",
    "y_test_pred = model.predict(X_test)"
   ]
  },
  {
   "cell_type": "code",
   "execution_count": 128,
   "id": "10d04c0f",
   "metadata": {},
   "outputs": [
    {
     "name": "stdout",
     "output_type": "stream",
     "text": [
      "              City                            Type  Children  \\\n",
      "0            Denée  Abbeys and religious monuments      0.00   \n",
      "1            Denée  Abbeys and religious monuments      1.00   \n",
      "2            Denée  Abbeys and religious monuments      8.00   \n",
      "3            Denée  Abbeys and religious monuments      5.00   \n",
      "4            Denée  Abbeys and religious monuments      2.00   \n",
      "...            ...                             ...       ...   \n",
      "119059  Houffalize                          UNESCO     12.50   \n",
      "119060  Houffalize                          UNESCO      9.75   \n",
      "119061  Houffalize                          UNESCO      4.50   \n",
      "119062  Houffalize                          UNESCO     14.50   \n",
      "119063  Houffalize                          UNESCO     45.00   \n",
      "\n",
      "        Predicted Adults Prices with model 2  \n",
      "0                                  -0.160712  \n",
      "1                                   0.468684  \n",
      "2                                   4.874454  \n",
      "3                                   2.986267  \n",
      "4                                   1.098080  \n",
      "...                                      ...  \n",
      "119059                              7.362059  \n",
      "119060                              5.631221  \n",
      "119061                              2.326894  \n",
      "119062                              8.620851  \n",
      "119063                             27.817418  \n",
      "\n",
      "[119064 rows x 4 columns]\n"
     ]
    }
   ],
   "source": [
    "unique_types = df['Type'].unique()\n",
    "unique_cities = df['City'].unique()\n",
    "unique_children = df['Children'].unique()\n",
    "\n",
    "combinations = list(itertools.product(unique_types, unique_cities, unique_children))\n",
    "predict_df_adults = pd.DataFrame(combinations, columns=['Type', 'City', 'Children'])\n",
    "predict_data = ct.transform(predict_df_adults)\n",
    "\n",
    "predicted_prices = model.predict(predict_data)\n",
    "predict_df_adults['Predicted Adults Prices with model 2'] = predicted_prices\n",
    "\n",
    "predict_df_adults2 = predict_df_adults[['City', 'Type', 'Children', 'Predicted Adults Prices with model 2']]\n",
    "\n",
    "print(predict_df_adults2)"
   ]
  },
  {
   "cell_type": "code",
   "execution_count": 129,
   "id": "4d014096",
   "metadata": {},
   "outputs": [
    {
     "name": "stdout",
     "output_type": "stream",
     "text": [
      "Train RMSE: 1.918940091417635\n",
      "Test RMSE: 4.401161984408371\n",
      "R-squared: 0.7492255846529967\n"
     ]
    }
   ],
   "source": [
    "train_rmse = mean_squared_error(y_train, y_train_pred, squared=False)\n",
    "test_rmse = mean_squared_error(y_test, y_test_pred, squared=False)\n",
    "r2 = r2_score(y_test, y_test_pred)\n",
    "\n",
    "print(\"Train RMSE:\", train_rmse)\n",
    "print(\"Test RMSE:\", test_rmse)\n",
    "print(\"R-squared:\", r2)"
   ]
  },
  {
   "cell_type": "markdown",
   "id": "d118e8f5",
   "metadata": {},
   "source": [
    "From these test results, it appears that the model have reasonable performance. It captures 74.92% of the variance in the target variable. However, we can notice a difference between the train and the test RMSE values. It could suggests potential overfitting or lack of generalization to unseen data. Further analysis and evaluation may be required to assess the model's performance and make any necessary improvements."
   ]
  },
  {
   "cell_type": "markdown",
   "id": "bb05d38d",
   "metadata": {},
   "source": [
    "We will therefore make a decision tree regression in order to see if there is some improvements for the model."
   ]
  },
  {
   "cell_type": "code",
   "execution_count": 130,
   "id": "f499c6cb",
   "metadata": {},
   "outputs": [],
   "source": [
    "X = df[['Type', 'City', 'Children']]\n",
    "y = df['Adults']"
   ]
  },
  {
   "cell_type": "code",
   "execution_count": 131,
   "id": "af8402f3",
   "metadata": {},
   "outputs": [],
   "source": [
    "ct = ColumnTransformer(\n",
    "    transformers=[('encoder', OneHotEncoder(), [0, 1])],\n",
    "    remainder='passthrough'\n",
    ")\n",
    "X = ct.fit_transform(X)"
   ]
  },
  {
   "cell_type": "code",
   "execution_count": 132,
   "id": "6bafa461",
   "metadata": {},
   "outputs": [],
   "source": [
    "X_train, X_test, y_train, y_test = train_test_split(X, y, test_size=0.2, random_state=42)\n"
   ]
  },
  {
   "cell_type": "code",
   "execution_count": 133,
   "id": "dbcd3a8e",
   "metadata": {},
   "outputs": [
    {
     "data": {
      "text/plain": [
       "DecisionTreeRegressor()"
      ]
     },
     "execution_count": 133,
     "metadata": {},
     "output_type": "execute_result"
    }
   ],
   "source": [
    "model = DecisionTreeRegressor()\n",
    "model.fit(X_train, y_train)"
   ]
  },
  {
   "cell_type": "code",
   "execution_count": 134,
   "id": "0149f2c0",
   "metadata": {},
   "outputs": [],
   "source": [
    "y_train_pred = model.predict(X_train)\n",
    "y_test_pred = model.predict(X_test)"
   ]
  },
  {
   "cell_type": "code",
   "execution_count": 135,
   "id": "4cfd9505",
   "metadata": {},
   "outputs": [
    {
     "name": "stdout",
     "output_type": "stream",
     "text": [
      "              City                            Type  Children  \\\n",
      "0            Denée  Abbeys and religious monuments      0.00   \n",
      "1            Denée  Abbeys and religious monuments      1.00   \n",
      "2            Denée  Abbeys and religious monuments      8.00   \n",
      "3            Denée  Abbeys and religious monuments      5.00   \n",
      "4            Denée  Abbeys and religious monuments      2.00   \n",
      "...            ...                             ...       ...   \n",
      "119059  Houffalize                          UNESCO     12.50   \n",
      "119060  Houffalize                          UNESCO      9.75   \n",
      "119061  Houffalize                          UNESCO      4.50   \n",
      "119062  Houffalize                          UNESCO     14.50   \n",
      "119063  Houffalize                          UNESCO     45.00   \n",
      "\n",
      "        Predicted Adults Prices with model 3  \n",
      "0                                        0.0  \n",
      "1                                        0.0  \n",
      "2                                       12.0  \n",
      "3                                        7.0  \n",
      "4                                        0.0  \n",
      "...                                      ...  \n",
      "119059                                  22.0  \n",
      "119060                                  12.0  \n",
      "119061                                   5.0  \n",
      "119062                                  19.0  \n",
      "119063                                  39.0  \n",
      "\n",
      "[119064 rows x 4 columns]\n"
     ]
    }
   ],
   "source": [
    "unique_types = df['Type'].unique()\n",
    "unique_cities = df['City'].unique()\n",
    "unique_children = df['Children'].unique()\n",
    "\n",
    "combinations = list(itertools.product(unique_types, unique_cities, unique_children))\n",
    "predict_df_adults = pd.DataFrame(combinations, columns=['Type', 'City', 'Children'])\n",
    "predict_data = ct.transform(predict_df_adults)\n",
    "\n",
    "predicted_prices = model.predict(predict_data)\n",
    "predict_df_adults['Predicted Adults Prices with model 3'] = predicted_prices\n",
    "\n",
    "predict_df_adults3 = predict_df_adults[['City', 'Type', 'Children', 'Predicted Adults Prices with model 3']]\n",
    "\n",
    "print(predict_df_adults3)"
   ]
  },
  {
   "cell_type": "code",
   "execution_count": 137,
   "id": "1b00c733",
   "metadata": {},
   "outputs": [
    {
     "name": "stdout",
     "output_type": "stream",
     "text": [
      "Train RMSE: 0.7863658258858991\n",
      "Test RMSE: 4.033761785407529\n",
      "R-squared: 0.7893463371296957\n"
     ]
    }
   ],
   "source": [
    "train_rmse = mean_squared_error(y_train, y_train_pred, squared=False)\n",
    "test_rmse = mean_squared_error(y_test, y_test_pred, squared=False)\n",
    "r2 = r2_score(y_test, y_test_pred)\n",
    "\n",
    "print(\"Train RMSE:\", train_rmse)\n",
    "print(\"Test RMSE:\", test_rmse)\n",
    "print(\"R-squared:\", r2)"
   ]
  },
  {
   "cell_type": "markdown",
   "id": "0eff2078",
   "metadata": {},
   "source": [
    "Overall, the model seems to have reasonable performance, capturing about 78.93% of the variance in the target variable. However, there is a noticeable difference between the train and test RMSE values, suggesting potential overfitting or lack of generalization to unseen data. This model is quite the same as the linear one made above. The addition of data and maybe the testing of other models could provide some more relevant predictions."
   ]
  },
  {
   "cell_type": "markdown",
   "id": "05896554",
   "metadata": {},
   "source": [
    "In summary, the second model outperforms the first model in terms of train RMSE, test RMSE, and R-squared. It has lower prediction errors on both the training and test data, as well as a higher ability to explain the variance in the target variable. Therefore, the second model is likely to be a better choice for predicting the target variable based on the given results.\n",
    "However, we could try in further research to add more data to the dataframe or to test other model to have better predictions."
   ]
  },
  {
   "cell_type": "markdown",
   "id": "08153fba",
   "metadata": {},
   "source": [
    "In the following code , we will make an excel table with the predictions of the linear regression and the predictions of the decision tree regression model."
   ]
  },
  {
   "cell_type": "code",
   "execution_count": 138,
   "id": "cac6f565",
   "metadata": {},
   "outputs": [
    {
     "name": "stdout",
     "output_type": "stream",
     "text": [
      "                  City                                    Type  Children  \\\n",
      "42153  Alle-sur-Semois                                   Caves       1.0   \n",
      "20537  Alle-sur-Semois                             Archaeology      22.0   \n",
      "20536  Alle-sur-Semois                             Archaeology      25.5   \n",
      "20535  Alle-sur-Semois                             Archaeology      20.0   \n",
      "20534  Alle-sur-Semois                             Archaeology       5.5   \n",
      "...                ...                                     ...       ...   \n",
      "93604           Wéris   Recreational, nautical and water parks       6.0   \n",
      "93603           Wéris   Recreational, nautical and water parks      21.0   \n",
      "93602           Wéris   Recreational, nautical and water parks      33.0   \n",
      "93600           Wéris   Recreational, nautical and water parks       7.0   \n",
      "23263           Wéris                                      Art      20.0   \n",
      "\n",
      "       Predicted Adults Prices with model 2  \\\n",
      "42153                              5.555898   \n",
      "20537                             14.247660   \n",
      "20536                             16.450545   \n",
      "20535                             12.988869   \n",
      "20534                              3.862632   \n",
      "...                                     ...   \n",
      "93604                             11.959532   \n",
      "93603                             21.400467   \n",
      "93602                             28.953215   \n",
      "93600                             12.588928   \n",
      "23263                             18.418825   \n",
      "\n",
      "       Predicted Adults Prices with model 3  \n",
      "42153                                   5.0  \n",
      "20537                                  27.0  \n",
      "20536                                  27.0  \n",
      "20535                                  27.0  \n",
      "20534                                  10.0  \n",
      "...                                     ...  \n",
      "93604                                   8.0  \n",
      "93603                                  27.0  \n",
      "93602                                  39.0  \n",
      "93600                                  10.0  \n",
      "23263                                  27.0  \n",
      "\n",
      "[119064 rows x 5 columns]\n"
     ]
    }
   ],
   "source": [
    "predict_df = predict_df_adults2.merge(predict_df_adults3, on=['Type', 'City', 'Children'])\n",
    "predict_df.sort_values(by='City', inplace=True)\n",
    "print(predict_df)"
   ]
  },
  {
   "cell_type": "code",
   "execution_count": 139,
   "id": "bd54e250",
   "metadata": {
    "scrolled": false
   },
   "outputs": [
    {
     "data": {
      "text/html": [
       "<div>\n",
       "<style scoped>\n",
       "    .dataframe tbody tr th:only-of-type {\n",
       "        vertical-align: middle;\n",
       "    }\n",
       "\n",
       "    .dataframe tbody tr th {\n",
       "        vertical-align: top;\n",
       "    }\n",
       "\n",
       "    .dataframe thead th {\n",
       "        text-align: right;\n",
       "    }\n",
       "</style>\n",
       "<table border=\"1\" class=\"dataframe\">\n",
       "  <thead>\n",
       "    <tr style=\"text-align: right;\">\n",
       "      <th></th>\n",
       "      <th>City</th>\n",
       "      <th>Type</th>\n",
       "      <th>Children</th>\n",
       "      <th>Predicted Adults Prices with model 2</th>\n",
       "      <th>Predicted Adults Prices with model 3</th>\n",
       "    </tr>\n",
       "  </thead>\n",
       "  <tbody>\n",
       "    <tr>\n",
       "      <th>42153</th>\n",
       "      <td>Alle-sur-Semois</td>\n",
       "      <td>Caves</td>\n",
       "      <td>1.0</td>\n",
       "      <td>5.555898</td>\n",
       "      <td>5.0</td>\n",
       "    </tr>\n",
       "    <tr>\n",
       "      <th>20537</th>\n",
       "      <td>Alle-sur-Semois</td>\n",
       "      <td>Archaeology</td>\n",
       "      <td>22.0</td>\n",
       "      <td>14.247660</td>\n",
       "      <td>27.0</td>\n",
       "    </tr>\n",
       "    <tr>\n",
       "      <th>20536</th>\n",
       "      <td>Alle-sur-Semois</td>\n",
       "      <td>Archaeology</td>\n",
       "      <td>25.5</td>\n",
       "      <td>16.450545</td>\n",
       "      <td>27.0</td>\n",
       "    </tr>\n",
       "    <tr>\n",
       "      <th>20535</th>\n",
       "      <td>Alle-sur-Semois</td>\n",
       "      <td>Archaeology</td>\n",
       "      <td>20.0</td>\n",
       "      <td>12.988869</td>\n",
       "      <td>27.0</td>\n",
       "    </tr>\n",
       "    <tr>\n",
       "      <th>20534</th>\n",
       "      <td>Alle-sur-Semois</td>\n",
       "      <td>Archaeology</td>\n",
       "      <td>5.5</td>\n",
       "      <td>3.862632</td>\n",
       "      <td>10.0</td>\n",
       "    </tr>\n",
       "    <tr>\n",
       "      <th>...</th>\n",
       "      <td>...</td>\n",
       "      <td>...</td>\n",
       "      <td>...</td>\n",
       "      <td>...</td>\n",
       "      <td>...</td>\n",
       "    </tr>\n",
       "    <tr>\n",
       "      <th>93604</th>\n",
       "      <td>Wéris</td>\n",
       "      <td>Recreational, nautical and water parks</td>\n",
       "      <td>6.0</td>\n",
       "      <td>11.959532</td>\n",
       "      <td>8.0</td>\n",
       "    </tr>\n",
       "    <tr>\n",
       "      <th>93603</th>\n",
       "      <td>Wéris</td>\n",
       "      <td>Recreational, nautical and water parks</td>\n",
       "      <td>21.0</td>\n",
       "      <td>21.400467</td>\n",
       "      <td>27.0</td>\n",
       "    </tr>\n",
       "    <tr>\n",
       "      <th>93602</th>\n",
       "      <td>Wéris</td>\n",
       "      <td>Recreational, nautical and water parks</td>\n",
       "      <td>33.0</td>\n",
       "      <td>28.953215</td>\n",
       "      <td>39.0</td>\n",
       "    </tr>\n",
       "    <tr>\n",
       "      <th>93600</th>\n",
       "      <td>Wéris</td>\n",
       "      <td>Recreational, nautical and water parks</td>\n",
       "      <td>7.0</td>\n",
       "      <td>12.588928</td>\n",
       "      <td>10.0</td>\n",
       "    </tr>\n",
       "    <tr>\n",
       "      <th>23263</th>\n",
       "      <td>Wéris</td>\n",
       "      <td>Art</td>\n",
       "      <td>20.0</td>\n",
       "      <td>18.418825</td>\n",
       "      <td>27.0</td>\n",
       "    </tr>\n",
       "  </tbody>\n",
       "</table>\n",
       "<p>119064 rows × 5 columns</p>\n",
       "</div>"
      ],
      "text/plain": [
       "                  City                                    Type  Children  \\\n",
       "42153  Alle-sur-Semois                                   Caves       1.0   \n",
       "20537  Alle-sur-Semois                             Archaeology      22.0   \n",
       "20536  Alle-sur-Semois                             Archaeology      25.5   \n",
       "20535  Alle-sur-Semois                             Archaeology      20.0   \n",
       "20534  Alle-sur-Semois                             Archaeology       5.5   \n",
       "...                ...                                     ...       ...   \n",
       "93604           Wéris   Recreational, nautical and water parks       6.0   \n",
       "93603           Wéris   Recreational, nautical and water parks      21.0   \n",
       "93602           Wéris   Recreational, nautical and water parks      33.0   \n",
       "93600           Wéris   Recreational, nautical and water parks       7.0   \n",
       "23263           Wéris                                      Art      20.0   \n",
       "\n",
       "       Predicted Adults Prices with model 2  \\\n",
       "42153                              5.555898   \n",
       "20537                             14.247660   \n",
       "20536                             16.450545   \n",
       "20535                             12.988869   \n",
       "20534                              3.862632   \n",
       "...                                     ...   \n",
       "93604                             11.959532   \n",
       "93603                             21.400467   \n",
       "93602                             28.953215   \n",
       "93600                             12.588928   \n",
       "23263                             18.418825   \n",
       "\n",
       "       Predicted Adults Prices with model 3  \n",
       "42153                                   5.0  \n",
       "20537                                  27.0  \n",
       "20536                                  27.0  \n",
       "20535                                  27.0  \n",
       "20534                                  10.0  \n",
       "...                                     ...  \n",
       "93604                                   8.0  \n",
       "93603                                  27.0  \n",
       "93602                                  39.0  \n",
       "93600                                  10.0  \n",
       "23263                                  27.0  \n",
       "\n",
       "[119064 rows x 5 columns]"
      ]
     },
     "execution_count": 139,
     "metadata": {},
     "output_type": "execute_result"
    }
   ],
   "source": [
    "predict_df"
   ]
  },
  {
   "cell_type": "code",
   "execution_count": 140,
   "id": "46f8d3bf",
   "metadata": {},
   "outputs": [],
   "source": [
    "df2=predict_df"
   ]
  },
  {
   "cell_type": "code",
   "execution_count": 141,
   "id": "5c74eca0",
   "metadata": {},
   "outputs": [],
   "source": [
    "df2.to_excel('predict_df.xlsx', index=False)"
   ]
  }
 ],
 "metadata": {
  "kernelspec": {
   "display_name": "Python 3 (ipykernel)",
   "language": "python",
   "name": "python3"
  },
  "language_info": {
   "codemirror_mode": {
    "name": "ipython",
    "version": 3
   },
   "file_extension": ".py",
   "mimetype": "text/x-python",
   "name": "python",
   "nbconvert_exporter": "python",
   "pygments_lexer": "ipython3",
   "version": "3.9.13"
  }
 },
 "nbformat": 4,
 "nbformat_minor": 5
}
