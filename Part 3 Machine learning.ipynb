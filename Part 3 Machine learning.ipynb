{
 "cells": [
  {
   "cell_type": "markdown",
   "id": "fe13149f",
   "metadata": {},
   "source": [
    "# Part 3: Machine learning"
   ]
  },
  {
   "cell_type": "markdown",
   "id": "0f6401b1",
   "metadata": {},
   "source": [
    "## Prediction of the prices for adults "
   ]
  },
  {
   "cell_type": "code",
   "execution_count": 25,
   "id": "31357af0",
   "metadata": {},
   "outputs": [],
   "source": [
    "import numpy as np\n",
    "import pandas as pd\n",
    "pd.set_option('display.max_columns', None)\n",
    "import itertools\n",
    "from sklearn.preprocessing import StandardScaler, OneHotEncoder, MinMaxScaler, OrdinalEncoder, LabelEncoder\n",
    "from sklearn.model_selection import GridSearchCV, KFold, train_test_split\n",
    "from sklearn.linear_model import LogisticRegression, LogisticRegressionCV, LinearRegression\n",
    "from sklearn.pipeline import Pipeline\n",
    "from sklearn.metrics import roc_curve, roc_auc_score, classification_report, accuracy_score, confusion_matrix, mean_squared_error, r2_score \n",
    "from sklearn.compose import ColumnTransformer\n",
    "import seaborn as sns\n",
    "import matplotlib.pyplot as plt"
   ]
  },
  {
   "cell_type": "markdown",
   "id": "f77ddaa9",
   "metadata": {},
   "source": [
    "We are going here to import the data that we have collected from de webscrapping done previously."
   ]
  },
  {
   "cell_type": "code",
   "execution_count": 2,
   "id": "cbc74e44",
   "metadata": {},
   "outputs": [
    {
     "data": {
      "text/html": [
       "<div>\n",
       "<style scoped>\n",
       "    .dataframe tbody tr th:only-of-type {\n",
       "        vertical-align: middle;\n",
       "    }\n",
       "\n",
       "    .dataframe tbody tr th {\n",
       "        vertical-align: top;\n",
       "    }\n",
       "\n",
       "    .dataframe thead th {\n",
       "        text-align: right;\n",
       "    }\n",
       "</style>\n",
       "<table border=\"1\" class=\"dataframe\">\n",
       "  <thead>\n",
       "    <tr style=\"text-align: right;\">\n",
       "      <th></th>\n",
       "      <th>Name</th>\n",
       "      <th>Type</th>\n",
       "      <th>City</th>\n",
       "      <th>Adults</th>\n",
       "      <th>Children</th>\n",
       "      <th>Latitude</th>\n",
       "      <th>Longitude</th>\n",
       "    </tr>\n",
       "  </thead>\n",
       "  <tbody>\n",
       "    <tr>\n",
       "      <th>0</th>\n",
       "      <td>Abbaye de Maredsous et Le Saint-Joseph</td>\n",
       "      <td>Abbeys and religious monuments</td>\n",
       "      <td>Denée</td>\n",
       "      <td>0.0</td>\n",
       "      <td>0.0</td>\n",
       "      <td>47.378864</td>\n",
       "      <td>-0.607726</td>\n",
       "    </tr>\n",
       "    <tr>\n",
       "      <th>1</th>\n",
       "      <td>Abbaye d'Aulne</td>\n",
       "      <td>Abbeys and religious monuments</td>\n",
       "      <td>Gozée</td>\n",
       "      <td>5.0</td>\n",
       "      <td>1.0</td>\n",
       "      <td>50.333228</td>\n",
       "      <td>4.351559</td>\n",
       "    </tr>\n",
       "    <tr>\n",
       "      <th>2</th>\n",
       "      <td>Hôpital Notre-Dame à la Rose</td>\n",
       "      <td>Abbeys and religious monuments</td>\n",
       "      <td>Lessines</td>\n",
       "      <td>13.0</td>\n",
       "      <td>8.0</td>\n",
       "      <td>50.712304</td>\n",
       "      <td>3.830113</td>\n",
       "    </tr>\n",
       "    <tr>\n",
       "      <th>3</th>\n",
       "      <td>Musée de la Vie wallonne</td>\n",
       "      <td>Abbeys and religious monuments</td>\n",
       "      <td>Liège</td>\n",
       "      <td>7.0</td>\n",
       "      <td>5.0</td>\n",
       "      <td>50.645094</td>\n",
       "      <td>5.573611</td>\n",
       "    </tr>\n",
       "    <tr>\n",
       "      <th>4</th>\n",
       "      <td>Trésor de la Collégiale Ste-Waudru</td>\n",
       "      <td>Abbeys and religious monuments</td>\n",
       "      <td>Mons</td>\n",
       "      <td>4.0</td>\n",
       "      <td>2.0</td>\n",
       "      <td>50.454957</td>\n",
       "      <td>3.951958</td>\n",
       "    </tr>\n",
       "  </tbody>\n",
       "</table>\n",
       "</div>"
      ],
      "text/plain": [
       "                                     Name                            Type  \\\n",
       "0  Abbaye de Maredsous et Le Saint-Joseph  Abbeys and religious monuments   \n",
       "1                          Abbaye d'Aulne  Abbeys and religious monuments   \n",
       "2            Hôpital Notre-Dame à la Rose  Abbeys and religious monuments   \n",
       "3                Musée de la Vie wallonne  Abbeys and religious monuments   \n",
       "4      Trésor de la Collégiale Ste-Waudru  Abbeys and religious monuments   \n",
       "\n",
       "       City  Adults  Children   Latitude  Longitude  \n",
       "0     Denée     0.0       0.0  47.378864  -0.607726  \n",
       "1    Gozée      5.0       1.0  50.333228   4.351559  \n",
       "2  Lessines    13.0       8.0  50.712304   3.830113  \n",
       "3     Liège     7.0       5.0  50.645094   5.573611  \n",
       "4      Mons     4.0       2.0  50.454957   3.951958  "
      ]
     },
     "execution_count": 2,
     "metadata": {},
     "output_type": "execute_result"
    }
   ],
   "source": [
    "df=pd.read_excel(\"webscraping.xlsx\")\n",
    "df.head()"
   ]
  },
  {
   "cell_type": "code",
   "execution_count": 3,
   "id": "dcaf9c56",
   "metadata": {
    "scrolled": false
   },
   "outputs": [
    {
     "name": "stdout",
     "output_type": "stream",
     "text": [
      "Name          object\n",
      "Type          object\n",
      "City          object\n",
      "Adults       float64\n",
      "Children     float64\n",
      "Latitude     float64\n",
      "Longitude    float64\n",
      "dtype: object\n"
     ]
    }
   ],
   "source": [
    "print(df.dtypes)"
   ]
  },
  {
   "cell_type": "markdown",
   "id": "cb4cd9cc",
   "metadata": {},
   "source": [
    "In order to do a regression, we should see if the prices of adults or children are correlated. If there are, we should include prices for children in the regression for the prices of adults and inversely."
   ]
  },
  {
   "cell_type": "code",
   "execution_count": 7,
   "id": "7730cd16",
   "metadata": {
    "scrolled": false
   },
   "outputs": [
    {
     "data": {
      "image/png": "[encoded data removed]",
      "text/plain": [
       "<Figure size 640x480 with 2 Axes>"
      ]
     },
     "metadata": {},
     "output_type": "display_data"
    }
   ],
   "source": [
    "Num_cols = ['Adults', 'Children']\n",
    "corr_matrix = df[Num_cols].corr()\n",
    "sns.heatmap(corr_matrix, annot=True, cmap='coolwarm', square=True)\n",
    "plt.title('Correlation Matrix (Numerical Variables)')\n",
    "plt.show()"
   ]
  },
  {
   "cell_type": "markdown",
   "id": "ff8abbf2",
   "metadata": {},
   "source": [
    "We see that there is a correlation of 0.55 between the prices of adults and children. This correlation of 0.55 suggests a moderate positive relationship between the two variables and we should therefore include this in the following regression."
   ]
  },
  {
   "cell_type": "code",
   "execution_count": 4,
   "id": "3bf74f17",
   "metadata": {},
   "outputs": [
    {
     "data": {
      "image/png": "[encoded data removed]",
      "text/plain": [
       "<Figure size 1170x827 with 1 Axes>"
      ]
     },
     "metadata": {},
     "output_type": "display_data"
    }
   ],
   "source": [
    "sns.set(rc={'figure.figsize':(11.7, 8.27)})\n",
    "plt.hist(df['Adults'], bins=30)\n",
    "plt.xlabel(\"Adults prices of attractions in Belgium\", size=15)\n",
    "plt.ylabel('count', size=15)\n",
    "plt.title('Distribution of prices', size=20)\n",
    "plt.show()"
   ]
  },
  {
   "cell_type": "code",
   "execution_count": 5,
   "id": "d006bfd3",
   "metadata": {},
   "outputs": [
    {
     "data": {
      "image/png": "[encoded data removed]",
      "text/plain": [
       "<Figure size 1170x827 with 1 Axes>"
      ]
     },
     "metadata": {},
     "output_type": "display_data"
    }
   ],
   "source": [
    "sns.set(rc={'figure.figsize':(11.7, 8.27)})\n",
    "plt.hist(df['Children'], bins=30)\n",
    "plt.xlabel(\"Children prices of attractions in Belgium\", size=15)\n",
    "plt.ylabel('count', size=15)\n",
    "plt.title('Distribution of prices', size=20)\n",
    "plt.show()"
   ]
  },
  {
   "cell_type": "markdown",
   "id": "e4c4c524",
   "metadata": {},
   "source": [
    "Let's thus define the  first variables of the first regression on the adults prices. We will here not include the variable of the prices of children. The prices of adults will here only depends on the city and the type of attractions."
   ]
  },
  {
   "cell_type": "code",
   "execution_count": 90,
   "id": "d737908e",
   "metadata": {},
   "outputs": [],
   "source": [
    "X = df[['Type', 'City']]\n",
    "y = df['Adults']"
   ]
  },
  {
   "cell_type": "code",
   "execution_count": 91,
   "id": "68636344",
   "metadata": {},
   "outputs": [],
   "source": [
    "ct = ColumnTransformer(\n",
    "    transformers=[('encoder', OneHotEncoder(), [0, 1])],\n",
    "    remainder='passthrough'\n",
    ")\n",
    "X = ct.fit_transform(X)"
   ]
  },
  {
   "cell_type": "code",
   "execution_count": 92,
   "id": "62124d3a",
   "metadata": {},
   "outputs": [],
   "source": [
    "X_train, X_test, y_train, y_test = train_test_split(X, y, test_size=0.2, random_state=42)"
   ]
  },
  {
   "cell_type": "code",
   "execution_count": 93,
   "id": "83a731e5",
   "metadata": {},
   "outputs": [
    {
     "data": {
      "text/plain": [
       "LinearRegression()"
      ]
     },
     "execution_count": 93,
     "metadata": {},
     "output_type": "execute_result"
    }
   ],
   "source": [
    "model = LinearRegression()\n",
    "model.fit(X_train, y_train)"
   ]
  },
  {
   "cell_type": "code",
   "execution_count": 94,
   "id": "6c48f70d",
   "metadata": {},
   "outputs": [],
   "source": [
    "y_train_pred = model.predict(X_train)\n",
    "y_test_pred = model.predict(X_test)"
   ]
  },
  {
   "cell_type": "code",
   "execution_count": 95,
   "id": "303ef3d9",
   "metadata": {},
   "outputs": [
    {
     "name": "stdout",
     "output_type": "stream",
     "text": [
      "               City                            Type  \\\n",
      "0             Denée  Abbeys and religious monuments   \n",
      "1            Gozée   Abbeys and religious monuments   \n",
      "2          Lessines  Abbeys and religious monuments   \n",
      "3             Liège  Abbeys and religious monuments   \n",
      "4              Mons  Abbeys and religious monuments   \n",
      "...             ...                             ...   \n",
      "2723  Vieux-Genappe                          UNESCO   \n",
      "2724       Waterloo                          UNESCO   \n",
      "2725           Coo                           UNESCO   \n",
      "2726       Dochamps                          UNESCO   \n",
      "2727     Houffalize                          UNESCO   \n",
      "\n",
      "      Predicted Adults Prices with model 1  \n",
      "0                                -0.026493  \n",
      "1                                 5.000009  \n",
      "2                                12.887541  \n",
      "3                                 5.114064  \n",
      "4                                 6.077846  \n",
      "...                                    ...  \n",
      "2723                              2.015858  \n",
      "2724                              7.015858  \n",
      "2725                              7.787703  \n",
      "2726                             -3.075816  \n",
      "2727                              0.424185  \n",
      "\n",
      "[2728 rows x 3 columns]\n"
     ]
    }
   ],
   "source": [
    "unique_types = df['Type'].unique()\n",
    "unique_cities = df['City'].unique()\n",
    "combinations = list(itertools.product(unique_types, unique_cities))\n",
    "predict_df_adults = pd.DataFrame(combinations, columns=['Type', 'City'])\n",
    "predict_data = ct.transform(predict_df_adults)\n",
    "predicted_prices = model.predict(predict_data)\n",
    "predict_df_adults['Predicted Adults Prices with model 1'] = predicted_prices\n",
    "\n",
    "predict_df_adults1 = predict_df_adults[['City', 'Type', 'Predicted Adults Prices with model 1']]\n",
    "\n",
    "print(predict_df_adults1)"
   ]
  },
  {
   "cell_type": "markdown",
   "id": "96b07fba",
   "metadata": {},
   "source": [
    "We have then predicted the prices for the adults based on the city and the type of activity. But is this model a good fitting and does it gives good predictions ? We will then do some tests to assess, or not, of the results of the model."
   ]
  },
  {
   "cell_type": "code",
   "execution_count": 96,
   "id": "63f333f5",
   "metadata": {
    "scrolled": true
   },
   "outputs": [
    {
     "name": "stdout",
     "output_type": "stream",
     "text": [
      "Train RMSE: 2.5273226910641196\n",
      "Test RMSE: 6.561270274340995\n",
      "R-squared: 0.47075772192075693\n"
     ]
    }
   ],
   "source": [
    "train_rmse = mean_squared_error(y_train, y_train_pred, squared=False)\n",
    "test_rmse = mean_squared_error(y_test, y_test_pred, squared=False)\n",
    "r2 = r2_score(y_test, y_test_pred)\n",
    "\n",
    "print(\"Train RMSE:\", train_rmse)\n",
    "print(\"Test RMSE:\", test_rmse)\n",
    "print(\"R-squared:\", r2)"
   ]
  },
  {
   "cell_type": "markdown",
   "id": "8a6a2e74",
   "metadata": {},
   "source": [
    "The R-squared value is a measure of how well the regression model fits the data. Here, the R-squared value of 0.47 indicates that approximately 47% of the variance in the dependent variable is explained by the independent variables. There is so a portion of the model which remains unexplained. Then, the RMSE measures the average prediction error of a regression model. Here, the train RMSE of 2.53 indicates that, on average, the predictions of the model on the training data are off by approximately 2.53 units. The test RMSE of 6.56 indicates that, on average, the predictions on the test data are off by approximately 6.56 units. A lower RMSE value indicates better predictive performance, so the train RMSE being lower than the test RMSE suggests that the model may be slightly overfitting the training data and not generalizing as well to the test data. Overall, the performance of the model seems to be moderate."
   ]
  },
  {
   "cell_type": "markdown",
   "id": "c2854cd4",
   "metadata": {},
   "source": [
    "Here, we can predict one price for a precise type of activity and a precise city. This could be useful if we don't want to search in all the predictions."
   ]
  },
  {
   "cell_type": "code",
   "execution_count": 97,
   "id": "4c64c40f",
   "metadata": {
    "scrolled": true
   },
   "outputs": [
    {
     "name": "stdout",
     "output_type": "stream",
     "text": [
      "Predicted Price for Adults: [9.77710087]\n"
     ]
    },
    {
     "name": "stderr",
     "output_type": "stream",
     "text": [
      "C:\\Users\\flori\\anaconda3\\lib\\site-packages\\sklearn\\base.py:450: UserWarning: X does not have valid feature names, but OneHotEncoder was fitted with feature names\n",
      "  warnings.warn(\n"
     ]
    }
   ],
   "source": [
    "new_data = [['Art', 'Bruxelles']]\n",
    "new_data = ct.transform(new_data)\n",
    "predicted_price = model.predict(new_data)\n",
    "print(\"Predicted Price for Adults:\", predicted_price)"
   ]
  },
  {
   "cell_type": "markdown",
   "id": "f543111e",
   "metadata": {},
   "source": [
    "We will then do a scatter plot of predicted price for adults versus actual price for adults. This can provide insights into the performance and accuracy of the regression model."
   ]
  },
  {
   "cell_type": "code",
   "execution_count": 98,
   "id": "5abf27f1",
   "metadata": {
    "scrolled": false
   },
   "outputs": [
    {
     "data": {
      "image/png": "[encoded data removed]",
      "text/plain": [
       "<Figure size 640x480 with 1 Axes>"
      ]
     },
     "metadata": {},
     "output_type": "display_data"
    }
   ],
   "source": [
    "plt.scatter(y_test, y_test_pred)\n",
    "plt.plot([min(y_test), max(y_test)], [min(y_test), max(y_test)], color='red', linestyle='--')\n",
    "plt.xlabel('Actual Price for Adults')\n",
    "plt.ylabel('Predicted Price for Adults')\n",
    "plt.title('Actual vs Predicted Prices for Adults')\n",
    "plt.show()"
   ]
  },
  {
   "cell_type": "markdown",
   "id": "315a5b6a",
   "metadata": {},
   "source": [
    "We can see that some points are closer to the diagonal line than other. The points close to this diagonal indicates that the model's predictions are close to the actual values. However, we also have points with a significant deviation from the diagonal line, it shows the error that we have with some prediction of the prices."
   ]
  },
  {
   "cell_type": "markdown",
   "id": "accea8fd",
   "metadata": {},
   "source": [
    "Let's now do the second regression. We will add here the prices of children in the regression in order to have more information in our model. We add the prices of children because we have seen that there is a moderate positive relationship between the two variables. Let's see the changes brought by this addition of variable in the model."
   ]
  },
  {
   "cell_type": "code",
   "execution_count": 99,
   "id": "6710e7ee",
   "metadata": {},
   "outputs": [],
   "source": [
    "X = df[['Type', 'City', 'Children']]\n",
    "y = df['Adults']"
   ]
  },
  {
   "cell_type": "code",
   "execution_count": 100,
   "id": "beab34f0",
   "metadata": {},
   "outputs": [],
   "source": [
    "ct = ColumnTransformer(\n",
    "    transformers=[('encoder', OneHotEncoder(), [0, 1])],\n",
    "    remainder='passthrough'\n",
    ")\n",
    "X = ct.fit_transform(X)"
   ]
  },
  {
   "cell_type": "code",
   "execution_count": 101,
   "id": "faa991a3",
   "metadata": {},
   "outputs": [],
   "source": [
    "X_train, X_test, y_train, y_test = train_test_split(X, y, test_size=0.2, random_state=42)"
   ]
  },
  {
   "cell_type": "code",
   "execution_count": 102,
   "id": "2f6cdabb",
   "metadata": {},
   "outputs": [
    {
     "data": {
      "text/plain": [
       "LinearRegression()"
      ]
     },
     "execution_count": 102,
     "metadata": {},
     "output_type": "execute_result"
    }
   ],
   "source": [
    "model = LinearRegression()\n",
    "model.fit(X_train, y_train)"
   ]
  },
  {
   "cell_type": "code",
   "execution_count": 103,
   "id": "36ecff93",
   "metadata": {},
   "outputs": [],
   "source": [
    "y_train_pred = model.predict(X_train)\n",
    "y_test_pred = model.predict(X_test)"
   ]
  },
  {
   "cell_type": "code",
   "execution_count": 104,
   "id": "10d04c0f",
   "metadata": {},
   "outputs": [
    {
     "name": "stdout",
     "output_type": "stream",
     "text": [
      "                                  Type        City  Children  \\\n",
      "0       Abbeys and religious monuments       Denée      0.00   \n",
      "1       Abbeys and religious monuments       Denée      1.00   \n",
      "2       Abbeys and religious monuments       Denée      8.00   \n",
      "3       Abbeys and religious monuments       Denée      5.00   \n",
      "4       Abbeys and religious monuments       Denée      2.00   \n",
      "...                                ...         ...       ...   \n",
      "122755                          UNESCO  Houffalize     12.50   \n",
      "122756                          UNESCO  Houffalize      9.75   \n",
      "122757                          UNESCO  Houffalize      4.50   \n",
      "122758                          UNESCO  Houffalize     14.50   \n",
      "122759                          UNESCO  Houffalize     45.00   \n",
      "\n",
      "        Predicted Adults Prices with model 2  \n",
      "0                                   0.091672  \n",
      "1                                   0.747306  \n",
      "2                                   5.336747  \n",
      "3                                   3.369844  \n",
      "4                                   1.402940  \n",
      "...                                      ...  \n",
      "122755                              7.905983  \n",
      "122756                              6.102988  \n",
      "122757                              2.660907  \n",
      "122758                              9.217252  \n",
      "122759                             29.214103  \n",
      "\n",
      "[122760 rows x 4 columns]\n"
     ]
    }
   ],
   "source": [
    "unique_types = df['Type'].unique()\n",
    "unique_cities = df['City'].unique()\n",
    "unique_children = df['Children'].unique()\n",
    "\n",
    "combinations = list(itertools.product(unique_types, unique_cities, unique_children))\n",
    "predict_df_adults = pd.DataFrame(combinations, columns=['Type', 'City', 'Children'])\n",
    "predict_data = ct.transform(predict_df_adults)\n",
    "\n",
    "predicted_prices = model.predict(predict_data)\n",
    "predict_df_adults['Predicted Adults Prices with model 2'] = predicted_prices\n",
    "\n",
    "predict_df_adults2f = predict_df_adults[['City', 'Type', 'Children', 'Predicted Adults Prices with model 2']]\n",
    "\n",
    "print(predict_df_adults2)"
   ]
  },
  {
   "cell_type": "code",
   "execution_count": 105,
   "id": "4d014096",
   "metadata": {},
   "outputs": [
    {
     "name": "stdout",
     "output_type": "stream",
     "text": [
      "Train RMSE: 1.843819722037389\n",
      "Test RMSE: 12.047322061724502\n",
      "R-squared: -0.7842664757693221\n"
     ]
    }
   ],
   "source": [
    "train_rmse = mean_squared_error(y_train, y_train_pred, squared=False)\n",
    "test_rmse = mean_squared_error(y_test, y_test_pred, squared=False)\n",
    "r2 = r2_score(y_test, y_test_pred)\n",
    "\n",
    "print(\"Train RMSE:\", train_rmse)\n",
    "print(\"Test RMSE:\", test_rmse)\n",
    "print(\"R-squared:\", r2)"
   ]
  },
  {
   "cell_type": "markdown",
   "id": "d118e8f5",
   "metadata": {},
   "source": [
    "From these test results, it appears that the model may be overfitting and not capturing the underlying patterns in the data accurately. We see that the model with only the city and the type of activities is a better fit than this one with the prices for children. Further analysis and model improvement may be necessary to address these issues and enhance the predictive performance of these two models. We will then make a test with a regression model based on the decision tree algorithm only with the city and the type of activity. "
   ]
  },
  {
   "cell_type": "code",
   "execution_count": 109,
   "id": "f499c6cb",
   "metadata": {},
   "outputs": [],
   "source": [
    "X = df[['Type', 'City']]\n",
    "y = df['Adults']"
   ]
  },
  {
   "cell_type": "code",
   "execution_count": 110,
   "id": "af8402f3",
   "metadata": {},
   "outputs": [],
   "source": [
    "ct = ColumnTransformer(\n",
    "    transformers=[('encoder', OneHotEncoder(), [0, 1])],\n",
    "    remainder='passthrough'\n",
    ")\n",
    "X = ct.fit_transform(X)"
   ]
  },
  {
   "cell_type": "code",
   "execution_count": 111,
   "id": "6bafa461",
   "metadata": {},
   "outputs": [],
   "source": [
    "X_train, X_test, y_train, y_test = train_test_split(X, y, test_size=0.2, random_state=42)\n"
   ]
  },
  {
   "cell_type": "code",
   "execution_count": 113,
   "id": "dbcd3a8e",
   "metadata": {},
   "outputs": [
    {
     "data": {
      "text/plain": [
       "DecisionTreeRegressor()"
      ]
     },
     "execution_count": 113,
     "metadata": {},
     "output_type": "execute_result"
    }
   ],
   "source": [
    "from sklearn.tree import DecisionTreeRegressor\n",
    "model = DecisionTreeRegressor()\n",
    "model.fit(X_train, y_train)"
   ]
  },
  {
   "cell_type": "code",
   "execution_count": 114,
   "id": "0149f2c0",
   "metadata": {},
   "outputs": [],
   "source": [
    "y_train_pred = model.predict(X_train)\n",
    "y_test_pred = model.predict(X_test)"
   ]
  },
  {
   "cell_type": "code",
   "execution_count": 115,
   "id": "4cfd9505",
   "metadata": {},
   "outputs": [
    {
     "name": "stdout",
     "output_type": "stream",
     "text": [
      "               City                            Type  \\\n",
      "0             Denée  Abbeys and religious monuments   \n",
      "1            Gozée   Abbeys and religious monuments   \n",
      "2          Lessines  Abbeys and religious monuments   \n",
      "3             Liège  Abbeys and religious monuments   \n",
      "4              Mons  Abbeys and religious monuments   \n",
      "...             ...                             ...   \n",
      "2723  Vieux-Genappe                          UNESCO   \n",
      "2724       Waterloo                          UNESCO   \n",
      "2725           Coo                           UNESCO   \n",
      "2726       Dochamps                          UNESCO   \n",
      "2727     Houffalize                          UNESCO   \n",
      "\n",
      "      Predicted Adults Prices with model 2  \n",
      "0                                      0.0  \n",
      "1                                      5.0  \n",
      "2                                     13.0  \n",
      "3                                      7.0  \n",
      "4                                      4.0  \n",
      "...                                    ...  \n",
      "2723                                   5.0  \n",
      "2724                                  10.0  \n",
      "2725                                   6.0  \n",
      "2726                                   6.0  \n",
      "2727                                   6.0  \n",
      "\n",
      "[2728 rows x 3 columns]\n"
     ]
    }
   ],
   "source": [
    "unique_types = df['Type'].unique()\n",
    "unique_cities = df['City'].unique()\n",
    "combinations = list(itertools.product(unique_types, unique_cities))\n",
    "predict_df_adults = pd.DataFrame(combinations, columns=['Type', 'City'])\n",
    "predict_data = ct.transform(predict_df_adults)\n",
    "predicted_prices = model.predict(predict_data)\n",
    "predict_df_adults['Predicted Adults Prices with model 2'] = predicted_prices\n",
    "\n",
    "predict_df_adults2 = predict_df_adults[['City', 'Type', 'Predicted Adults Prices with model 2']]\n",
    "\n",
    "print(predict_df_adults2)"
   ]
  },
  {
   "cell_type": "code",
   "execution_count": 116,
   "id": "1b00c733",
   "metadata": {},
   "outputs": [
    {
     "name": "stdout",
     "output_type": "stream",
     "text": [
      "Train RMSE: 1.8910317507252707\n",
      "Test RMSE: 7.579362597914851\n",
      "R-squared: 0.2937734455403861\n"
     ]
    }
   ],
   "source": [
    "train_rmse = mean_squared_error(y_train, y_train_pred, squared=False)\n",
    "test_rmse = mean_squared_error(y_test, y_test_pred, squared=False)\n",
    "r2 = r2_score(y_test, y_test_pred)\n",
    "\n",
    "print(\"Train RMSE:\", train_rmse)\n",
    "print(\"Test RMSE:\", test_rmse)\n",
    "print(\"R-squared:\", r2)"
   ]
  },
  {
   "cell_type": "markdown",
   "id": "0eff2078",
   "metadata": {},
   "source": [
    "The RMSE for the training set is 1.891, which indicates the average difference between the actual and predicted values of the target variable, as to know the prices for adults, is around 1.891. Lower values of RMSE suggest better model performance. The RMSE for the test set is 7.579, which is slightly higher than the train RMSE. This suggests that the model may be slightly less accurate when making predictions on unseen data. The R-squared is 0.294, indicating that the model explains approximately 29.4% of the variance in the Adults variable. This means that there is still a significant portion of the variance that remains unexplained."
   ]
  },
  {
   "cell_type": "markdown",
   "id": "05896554",
   "metadata": {},
   "source": [
    "In conclusion, we should use the linear regression with the type of attraction and the city. Indeed, the R-squared is bigger in this regression than the second one with the decision tree regression model. Moreover, the addition of the prices for children has made the model less performing. This could be cause by the uniqueness use in the prices of children. If we want to go further, we could use the first linear regression but we must add some information in the model in order to have a better fitting for the predictions."
   ]
  },
  {
   "cell_type": "markdown",
   "id": "08153fba",
   "metadata": {},
   "source": [
    "In the following code , we will make an excel table with the predictions of the linear regression and the predictions of the decision tree regression model."
   ]
  },
  {
   "cell_type": "code",
   "execution_count": 119,
   "id": "cac6f565",
   "metadata": {},
   "outputs": [
    {
     "name": "stdout",
     "output_type": "stream",
     "text": [
      "                 City                                            Type  \\\n",
      "1709  Alle-sur-Semois  Industrial heritage and engineering structures   \n",
      "97    Alle-sur-Semois                  Abbeys and religious monuments   \n",
      "469   Alle-sur-Semois                                     Archaeology   \n",
      "1089  Alle-sur-Semois                    Draisines and tourist trains   \n",
      "717   Alle-sur-Semois                 Automotive and railway heritage   \n",
      "...               ...                                             ...   \n",
      "2640           Wéris                                           UNESCO   \n",
      "1896           Wéris                                   Local products   \n",
      "36             Wéris                   Abbeys and religious monuments   \n",
      "2392           Wéris                        Theme and amusement parks   \n",
      "1400           Wéris                         Handicrafts and know-how   \n",
      "\n",
      "      Predicted Adults Prices with model 1  \\\n",
      "1709                              7.381474   \n",
      "97                                6.035976   \n",
      "469                               6.092410   \n",
      "1089                             12.418774   \n",
      "717                               8.942047   \n",
      "...                                    ...   \n",
      "2640                              4.695331   \n",
      "1896                              2.996635   \n",
      "36                                2.943604   \n",
      "2392                             16.271063   \n",
      "1400                              3.822378   \n",
      "\n",
      "      Predicted Adults Prices with model 2  \n",
      "1709                                   6.0  \n",
      "97                                     7.0  \n",
      "469                                    5.0  \n",
      "1089                                  15.0  \n",
      "717                                    6.0  \n",
      "...                                    ...  \n",
      "2640                                   6.0  \n",
      "1896                                   6.5  \n",
      "36                                     7.0  \n",
      "2392                                  23.0  \n",
      "1400                                   6.0  \n",
      "\n",
      "[2728 rows x 4 columns]\n"
     ]
    }
   ],
   "source": [
    "predict_df = predict_df_adults1.merge(predict_df_adults2, on=['Type', 'City'])\n",
    "predict_df.sort_values(by='City', inplace=True)\n",
    "print(predict_df)"
   ]
  },
  {
   "cell_type": "code",
   "execution_count": 120,
   "id": "bd54e250",
   "metadata": {
    "scrolled": false
   },
   "outputs": [
    {
     "data": {
      "text/html": [
       "<div>\n",
       "<style scoped>\n",
       "    .dataframe tbody tr th:only-of-type {\n",
       "        vertical-align: middle;\n",
       "    }\n",
       "\n",
       "    .dataframe tbody tr th {\n",
       "        vertical-align: top;\n",
       "    }\n",
       "\n",
       "    .dataframe thead th {\n",
       "        text-align: right;\n",
       "    }\n",
       "</style>\n",
       "<table border=\"1\" class=\"dataframe\">\n",
       "  <thead>\n",
       "    <tr style=\"text-align: right;\">\n",
       "      <th></th>\n",
       "      <th>City</th>\n",
       "      <th>Type</th>\n",
       "      <th>Predicted Adults Prices with model 1</th>\n",
       "      <th>Predicted Adults Prices with model 2</th>\n",
       "    </tr>\n",
       "  </thead>\n",
       "  <tbody>\n",
       "    <tr>\n",
       "      <th>1709</th>\n",
       "      <td>Alle-sur-Semois</td>\n",
       "      <td>Industrial heritage and engineering structures</td>\n",
       "      <td>7.381474</td>\n",
       "      <td>6.0</td>\n",
       "    </tr>\n",
       "    <tr>\n",
       "      <th>97</th>\n",
       "      <td>Alle-sur-Semois</td>\n",
       "      <td>Abbeys and religious monuments</td>\n",
       "      <td>6.035976</td>\n",
       "      <td>7.0</td>\n",
       "    </tr>\n",
       "    <tr>\n",
       "      <th>469</th>\n",
       "      <td>Alle-sur-Semois</td>\n",
       "      <td>Archaeology</td>\n",
       "      <td>6.092410</td>\n",
       "      <td>5.0</td>\n",
       "    </tr>\n",
       "    <tr>\n",
       "      <th>1089</th>\n",
       "      <td>Alle-sur-Semois</td>\n",
       "      <td>Draisines and tourist trains</td>\n",
       "      <td>12.418774</td>\n",
       "      <td>15.0</td>\n",
       "    </tr>\n",
       "    <tr>\n",
       "      <th>717</th>\n",
       "      <td>Alle-sur-Semois</td>\n",
       "      <td>Automotive and railway heritage</td>\n",
       "      <td>8.942047</td>\n",
       "      <td>6.0</td>\n",
       "    </tr>\n",
       "    <tr>\n",
       "      <th>...</th>\n",
       "      <td>...</td>\n",
       "      <td>...</td>\n",
       "      <td>...</td>\n",
       "      <td>...</td>\n",
       "    </tr>\n",
       "    <tr>\n",
       "      <th>2640</th>\n",
       "      <td>Wéris</td>\n",
       "      <td>UNESCO</td>\n",
       "      <td>4.695331</td>\n",
       "      <td>6.0</td>\n",
       "    </tr>\n",
       "    <tr>\n",
       "      <th>1896</th>\n",
       "      <td>Wéris</td>\n",
       "      <td>Local products</td>\n",
       "      <td>2.996635</td>\n",
       "      <td>6.5</td>\n",
       "    </tr>\n",
       "    <tr>\n",
       "      <th>36</th>\n",
       "      <td>Wéris</td>\n",
       "      <td>Abbeys and religious monuments</td>\n",
       "      <td>2.943604</td>\n",
       "      <td>7.0</td>\n",
       "    </tr>\n",
       "    <tr>\n",
       "      <th>2392</th>\n",
       "      <td>Wéris</td>\n",
       "      <td>Theme and amusement parks</td>\n",
       "      <td>16.271063</td>\n",
       "      <td>23.0</td>\n",
       "    </tr>\n",
       "    <tr>\n",
       "      <th>1400</th>\n",
       "      <td>Wéris</td>\n",
       "      <td>Handicrafts and know-how</td>\n",
       "      <td>3.822378</td>\n",
       "      <td>6.0</td>\n",
       "    </tr>\n",
       "  </tbody>\n",
       "</table>\n",
       "<p>2728 rows × 4 columns</p>\n",
       "</div>"
      ],
      "text/plain": [
       "                 City                                            Type  \\\n",
       "1709  Alle-sur-Semois  Industrial heritage and engineering structures   \n",
       "97    Alle-sur-Semois                  Abbeys and religious monuments   \n",
       "469   Alle-sur-Semois                                     Archaeology   \n",
       "1089  Alle-sur-Semois                    Draisines and tourist trains   \n",
       "717   Alle-sur-Semois                 Automotive and railway heritage   \n",
       "...               ...                                             ...   \n",
       "2640           Wéris                                           UNESCO   \n",
       "1896           Wéris                                   Local products   \n",
       "36             Wéris                   Abbeys and religious monuments   \n",
       "2392           Wéris                        Theme and amusement parks   \n",
       "1400           Wéris                         Handicrafts and know-how   \n",
       "\n",
       "      Predicted Adults Prices with model 1  \\\n",
       "1709                              7.381474   \n",
       "97                                6.035976   \n",
       "469                               6.092410   \n",
       "1089                             12.418774   \n",
       "717                               8.942047   \n",
       "...                                    ...   \n",
       "2640                              4.695331   \n",
       "1896                              2.996635   \n",
       "36                                2.943604   \n",
       "2392                             16.271063   \n",
       "1400                              3.822378   \n",
       "\n",
       "      Predicted Adults Prices with model 2  \n",
       "1709                                   6.0  \n",
       "97                                     7.0  \n",
       "469                                    5.0  \n",
       "1089                                  15.0  \n",
       "717                                    6.0  \n",
       "...                                    ...  \n",
       "2640                                   6.0  \n",
       "1896                                   6.5  \n",
       "36                                     7.0  \n",
       "2392                                  23.0  \n",
       "1400                                   6.0  \n",
       "\n",
       "[2728 rows x 4 columns]"
      ]
     },
     "execution_count": 120,
     "metadata": {},
     "output_type": "execute_result"
    }
   ],
   "source": [
    "predict_df"
   ]
  },
  {
   "cell_type": "code",
   "execution_count": 121,
   "id": "46f8d3bf",
   "metadata": {},
   "outputs": [],
   "source": [
    "df2=predict_df"
   ]
  },
  {
   "cell_type": "code",
   "execution_count": 122,
   "id": "5c74eca0",
   "metadata": {},
   "outputs": [],
   "source": [
    "df2.to_excel('predict_df.xlsx', index=False)"
   ]
  }
 ],
 "metadata": {
  "kernelspec": {
   "display_name": "Python 3 (ipykernel)",
   "language": "python",
   "name": "python3"
  },
  "language_info": {
   "codemirror_mode": {
    "name": "ipython",
    "version": 3
   },
   "file_extension": ".py",
   "mimetype": "text/x-python",
   "name": "python",
   "nbconvert_exporter": "python",
   "pygments_lexer": "ipython3",
   "version": "3.9.13"
  }
 },
 "nbformat": 4,
 "nbformat_minor": 5
}
