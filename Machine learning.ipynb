{
 "cells": [
  {
   "cell_type": "markdown",
   "id": "fe13149f",
   "metadata": {},
   "source": [
    "# Part 3: Machine learning"
   ]
  },
  {
   "cell_type": "markdown",
   "id": "0f6401b1",
   "metadata": {},
   "source": [
    "## Classification to predict the price"
   ]
  },
  {
   "cell_type": "code",
   "execution_count": 181,
   "id": "31357af0",
   "metadata": {},
   "outputs": [],
   "source": [
    "import numpy as np\n",
    "import pandas as pd\n",
    "pd.set_option('display.max_columns', None)\n",
    "\n",
    "from sklearn.preprocessing import StandardScaler, OneHotEncoder, MinMaxScaler, OrdinalEncoder, LabelEncoder\n",
    "from sklearn.model_selection import GridSearchCV, KFold, train_test_split\n",
    "from sklearn.linear_model import LogisticRegression, LogisticRegressionCV, LinearRegression\n",
    "from sklearn.pipeline import Pipeline\n",
    "from sklearn.metrics import roc_curve, roc_auc_score, classification_report, accuracy_score, confusion_matrix, mean_squared_error, r2_score \n",
    "from sklearn.compose import ColumnTransformer\n",
    "import seaborn as sns\n",
    "import matplotlib.pyplot as plt"
   ]
  },
  {
   "cell_type": "markdown",
   "id": "f77ddaa9",
   "metadata": {},
   "source": [
    "Load data"
   ]
  },
  {
   "cell_type": "code",
   "execution_count": 108,
   "id": "cbc74e44",
   "metadata": {},
   "outputs": [
    {
     "data": {
      "text/html": [
       "<div>\n",
       "<style scoped>\n",
       "    .dataframe tbody tr th:only-of-type {\n",
       "        vertical-align: middle;\n",
       "    }\n",
       "\n",
       "    .dataframe tbody tr th {\n",
       "        vertical-align: top;\n",
       "    }\n",
       "\n",
       "    .dataframe thead th {\n",
       "        text-align: right;\n",
       "    }\n",
       "</style>\n",
       "<table border=\"1\" class=\"dataframe\">\n",
       "  <thead>\n",
       "    <tr style=\"text-align: right;\">\n",
       "      <th></th>\n",
       "      <th>Name</th>\n",
       "      <th>Type</th>\n",
       "      <th>City</th>\n",
       "      <th>Visiting time</th>\n",
       "      <th>Adults</th>\n",
       "      <th>Children</th>\n",
       "      <th>Latitude</th>\n",
       "      <th>Longitude</th>\n",
       "    </tr>\n",
       "  </thead>\n",
       "  <tbody>\n",
       "    <tr>\n",
       "      <th>0</th>\n",
       "      <td>Récréalle Centre Récréatif</td>\n",
       "      <td>recreational</td>\n",
       "      <td>Alle-sur-Semois</td>\n",
       "      <td>Not Available</td>\n",
       "      <td>20.0</td>\n",
       "      <td>20.0</td>\n",
       "      <td>49.842121</td>\n",
       "      <td>4.972678</td>\n",
       "    </tr>\n",
       "    <tr>\n",
       "      <th>1</th>\n",
       "      <td>Château de Jehay</td>\n",
       "      <td>cultural</td>\n",
       "      <td>Amay</td>\n",
       "      <td>1h</td>\n",
       "      <td>5.0</td>\n",
       "      <td>3.0</td>\n",
       "      <td>50.549776</td>\n",
       "      <td>5.324099</td>\n",
       "    </tr>\n",
       "    <tr>\n",
       "      <th>2</th>\n",
       "      <td>Espace muséal d'Andenne - Le Phare</td>\n",
       "      <td>cultural</td>\n",
       "      <td>Andenne</td>\n",
       "      <td>1h30 à 2h00</td>\n",
       "      <td>8.0</td>\n",
       "      <td>0.0</td>\n",
       "      <td>50.489398</td>\n",
       "      <td>5.096547</td>\n",
       "    </tr>\n",
       "    <tr>\n",
       "      <th>3</th>\n",
       "      <td>Les Jardins d'eau d'Annevoie</td>\n",
       "      <td>natural</td>\n",
       "      <td>Annevoie</td>\n",
       "      <td>1h30</td>\n",
       "      <td>10.0</td>\n",
       "      <td>6.0</td>\n",
       "      <td>50.341611</td>\n",
       "      <td>4.838456</td>\n",
       "    </tr>\n",
       "    <tr>\n",
       "      <th>4</th>\n",
       "      <td>Dinant Evasion - Lesse kayaks</td>\n",
       "      <td>recreational</td>\n",
       "      <td>Anseremme (Dinant)</td>\n",
       "      <td>5h (21 km) • 2h30 (12 km) • 2h00 (9 km)</td>\n",
       "      <td>25.5</td>\n",
       "      <td>25.5</td>\n",
       "      <td>50.237910</td>\n",
       "      <td>4.907923</td>\n",
       "    </tr>\n",
       "  </tbody>\n",
       "</table>\n",
       "</div>"
      ],
      "text/plain": [
       "                                 Name          Type                City  \\\n",
       "0          Récréalle Centre Récréatif  recreational     Alle-sur-Semois   \n",
       "1                    Château de Jehay      cultural                Amay   \n",
       "2  Espace muséal d'Andenne - Le Phare      cultural             Andenne   \n",
       "3        Les Jardins d'eau d'Annevoie       natural            Annevoie   \n",
       "4       Dinant Evasion - Lesse kayaks  recreational  Anseremme (Dinant)   \n",
       "\n",
       "                             Visiting time  Adults  Children   Latitude  \\\n",
       "0                            Not Available    20.0      20.0  49.842121   \n",
       "1                                       1h     5.0       3.0  50.549776   \n",
       "2                              1h30 à 2h00     8.0       0.0  50.489398   \n",
       "3                                     1h30    10.0       6.0  50.341611   \n",
       "4  5h (21 km) • 2h30 (12 km) • 2h00 (9 km)    25.5      25.5  50.237910   \n",
       "\n",
       "   Longitude  \n",
       "0   4.972678  \n",
       "1   5.324099  \n",
       "2   5.096547  \n",
       "3   4.838456  \n",
       "4   4.907923  "
      ]
     },
     "execution_count": 108,
     "metadata": {},
     "output_type": "execute_result"
    }
   ],
   "source": [
    "df=pd.read_excel(\"webscraping.xlsx\")\n",
    "df.head()"
   ]
  },
  {
   "cell_type": "code",
   "execution_count": 109,
   "id": "4a692682",
   "metadata": {},
   "outputs": [],
   "source": [
    "X = df[['City','Type']]\n",
    "y = df['Adults']"
   ]
  },
  {
   "cell_type": "code",
   "execution_count": 110,
   "id": "99f472c3",
   "metadata": {},
   "outputs": [],
   "source": [
    "X_train, X_test, y_train, y_test = train_test_split(X, y, test_size=0.3, random_state=42)"
   ]
  },
  {
   "cell_type": "code",
   "execution_count": 111,
   "id": "d7a79049",
   "metadata": {},
   "outputs": [],
   "source": [
    "combined = pd.concat([X_train, X_test], axis=0)"
   ]
  },
  {
   "cell_type": "code",
   "execution_count": 112,
   "id": "a14178f6",
   "metadata": {},
   "outputs": [],
   "source": [
    "categorical_cols = ['City','Type']"
   ]
  },
  {
   "cell_type": "code",
   "execution_count": 113,
   "id": "79267ca5",
   "metadata": {},
   "outputs": [],
   "source": [
    "preprocessor = ColumnTransformer(\n",
    "    transformers=[('encoder', OneHotEncoder(), categorical_cols)],\n",
    "    remainder='passthrough'\n",
    ")"
   ]
  },
  {
   "cell_type": "code",
   "execution_count": 114,
   "id": "e3af574f",
   "metadata": {},
   "outputs": [],
   "source": [
    "combined = preprocessor.fit_transform(combined).toarray()"
   ]
  },
  {
   "cell_type": "code",
   "execution_count": 115,
   "id": "7c1d5f58",
   "metadata": {},
   "outputs": [],
   "source": [
    "X_train = combined[:len(X_train)]\n",
    "X_test = combined[len(X_train):]"
   ]
  },
  {
   "cell_type": "code",
   "execution_count": 116,
   "id": "56e79ae9",
   "metadata": {},
   "outputs": [
    {
     "data": {
      "text/plain": [
       "LinearRegression()"
      ]
     },
     "execution_count": 116,
     "metadata": {},
     "output_type": "execute_result"
    }
   ],
   "source": [
    "regressor = LinearRegression()\n",
    "regressor.fit(X_train, y_train)"
   ]
  },
  {
   "cell_type": "code",
   "execution_count": 117,
   "id": "e4322a51",
   "metadata": {},
   "outputs": [
    {
     "name": "stdout",
     "output_type": "stream",
     "text": [
      "Mean Squared Error: 2.634401191882359e+29\n"
     ]
    }
   ],
   "source": [
    "y_pred = regressor.predict(X_test)\n",
    "mse = mean_squared_error(y_test, y_pred)\n",
    "print(\"Mean Squared Error:\", mse)"
   ]
  },
  {
   "cell_type": "markdown",
   "id": "1fc9df4a",
   "metadata": {},
   "source": [
    "Predictions of the price of adults by linear regressions"
   ]
  },
  {
   "cell_type": "code",
   "execution_count": 183,
   "id": "d737908e",
   "metadata": {},
   "outputs": [],
   "source": [
    "X = df[['Type', 'City']]\n",
    "y = df['Adults']"
   ]
  },
  {
   "cell_type": "code",
   "execution_count": 184,
   "id": "68636344",
   "metadata": {},
   "outputs": [],
   "source": [
    "ct = ColumnTransformer(\n",
    "    transformers=[('encoder', OneHotEncoder(), [0, 1])],\n",
    "    remainder='passthrough'\n",
    ")\n",
    "X = ct.fit_transform(X)"
   ]
  },
  {
   "cell_type": "code",
   "execution_count": 185,
   "id": "62124d3a",
   "metadata": {},
   "outputs": [],
   "source": [
    "X_train, X_test, y_train, y_test = train_test_split(X, y, test_size=0.2, random_state=42)\n"
   ]
  },
  {
   "cell_type": "code",
   "execution_count": 187,
   "id": "83a731e5",
   "metadata": {},
   "outputs": [
    {
     "data": {
      "text/plain": [
       "LinearRegression()"
      ]
     },
     "execution_count": 187,
     "metadata": {},
     "output_type": "execute_result"
    }
   ],
   "source": [
    "model = LinearRegression()\n",
    "model.fit(X_train, y_train)"
   ]
  },
  {
   "cell_type": "code",
   "execution_count": 188,
   "id": "6c48f70d",
   "metadata": {},
   "outputs": [],
   "source": [
    "y_train_pred = model.predict(X_train)\n",
    "y_test_pred = model.predict(X_test)"
   ]
  },
  {
   "cell_type": "code",
   "execution_count": 189,
   "id": "63f333f5",
   "metadata": {},
   "outputs": [
    {
     "name": "stdout",
     "output_type": "stream",
     "text": [
      "Train RMSE: 3.1501722191487564\n",
      "Test RMSE: 6.481466625035913\n",
      "R-squared: -0.10732394125787792\n"
     ]
    }
   ],
   "source": [
    "train_rmse = mean_squared_error(y_train, y_train_pred, squared=False)\n",
    "test_rmse = mean_squared_error(y_test, y_test_pred, squared=False)\n",
    "r2 = r2_score(y_test, y_test_pred)\n",
    "\n",
    "print(\"Train RMSE:\", train_rmse)\n",
    "print(\"Test RMSE:\", test_rmse)\n",
    "print(\"R-squared:\", r2)"
   ]
  },
  {
   "cell_type": "code",
   "execution_count": 190,
   "id": "5abf27f1",
   "metadata": {},
   "outputs": [
    {
     "data": {
      "image/png": "[encoded data removed]",
      "text/plain": [
       "<Figure size 640x480 with 1 Axes>"
      ]
     },
     "metadata": {},
     "output_type": "display_data"
    }
   ],
   "source": [
    "plt.scatter(y_test, y_test_pred)\n",
    "plt.xlabel('Actual Price for Adults')\n",
    "plt.ylabel('Predicted Price for Adults')\n",
    "plt.title('Actual vs Predicted Prices for Adults')\n",
    "plt.show()"
   ]
  },
  {
   "cell_type": "markdown",
   "id": "cd953271",
   "metadata": {},
   "source": [
    "Predictions of the price of children by linear regressions"
   ]
  },
  {
   "cell_type": "code",
   "execution_count": 155,
   "id": "73c3485a",
   "metadata": {},
   "outputs": [],
   "source": [
    "X = df[['Type', 'City']]\n",
    "y = df['Children']"
   ]
  },
  {
   "cell_type": "code",
   "execution_count": 156,
   "id": "219ed402",
   "metadata": {},
   "outputs": [],
   "source": [
    "ct = ColumnTransformer(\n",
    "    transformers=[('encoder', OneHotEncoder(), [0, 1])],\n",
    "    remainder='passthrough'\n",
    ")\n",
    "X = ct.fit_transform(X)"
   ]
  },
  {
   "cell_type": "code",
   "execution_count": 157,
   "id": "dc7e4d65",
   "metadata": {},
   "outputs": [
    {
     "data": {
      "text/plain": [
       "LinearRegression()"
      ]
     },
     "execution_count": 157,
     "metadata": {},
     "output_type": "execute_result"
    }
   ],
   "source": [
    "model = LinearRegression()\n",
    "model.fit(X, y)"
   ]
  },
  {
   "cell_type": "code",
   "execution_count": 164,
   "id": "4a3cefa8",
   "metadata": {},
   "outputs": [
    {
     "name": "stdout",
     "output_type": "stream",
     "text": [
      "Predicted Price for Children: [2.60816058]\n"
     ]
    },
    {
     "name": "stderr",
     "output_type": "stream",
     "text": [
      "C:\\Users\\flori\\anaconda3\\lib\\site-packages\\sklearn\\base.py:450: UserWarning: X does not have valid feature names, but OneHotEncoder was fitted with feature names\n",
      "  warnings.warn(\n"
     ]
    }
   ],
   "source": [
    "new_data = [['natural', 'Charleroi']]  # Provide the type and city values for prediction\n",
    "new_data = ct.transform(new_data)\n",
    "predicted_price = model.predict(new_data)\n",
    "print(\"Predicted Price for Children:\", predicted_price)"
   ]
  },
  {
   "cell_type": "markdown",
   "id": "44bdea7d",
   "metadata": {},
   "source": [
    "essai d'autres trucs"
   ]
  },
  {
   "cell_type": "code",
   "execution_count": 174,
   "id": "73092e2b",
   "metadata": {},
   "outputs": [],
   "source": [
    "X = df[['Type', 'City']]\n",
    "y = df['Adults']"
   ]
  },
  {
   "cell_type": "code",
   "execution_count": 176,
   "id": "ba7db7ce",
   "metadata": {},
   "outputs": [],
   "source": [
    "ct = ColumnTransformer(\n",
    "    transformers=[('encoder', OneHotEncoder(), [0, 1])],\n",
    "    remainder='passthrough'\n",
    ")\n",
    "X = ct.fit_transform(X)"
   ]
  },
  {
   "cell_type": "code",
   "execution_count": 177,
   "id": "727862f3",
   "metadata": {},
   "outputs": [],
   "source": [
    "X_train, X_test, y_train, y_test = train_test_split(X, y, test_size=0.2, random_state=42)"
   ]
  },
  {
   "cell_type": "code",
   "execution_count": 178,
   "id": "bac45dd4",
   "metadata": {},
   "outputs": [
    {
     "data": {
      "text/plain": [
       "LinearRegression()"
      ]
     },
     "execution_count": 178,
     "metadata": {},
     "output_type": "execute_result"
    }
   ],
   "source": [
    "model = LinearRegression()\n",
    "model.fit(X_train, y_train)"
   ]
  },
  {
   "cell_type": "code",
   "execution_count": 179,
   "id": "c2c85616",
   "metadata": {},
   "outputs": [],
   "source": [
    "y_train_pred = model.predict(X_train)\n",
    "y_test_pred = model.predict(X_test)"
   ]
  },
  {
   "cell_type": "code",
   "execution_count": 182,
   "id": "4f71b46a",
   "metadata": {},
   "outputs": [
    {
     "name": "stdout",
     "output_type": "stream",
     "text": [
      "Train RMSE: 3.1501722191487564\n",
      "Test RMSE: 6.481466625035913\n",
      "R-squared: -0.10732394125787792\n"
     ]
    }
   ],
   "source": [
    "train_rmse = mean_squared_error(y_train, y_train_pred, squared=False)\n",
    "test_rmse = mean_squared_error(y_test, y_test_pred, squared=False)\n",
    "r2 = r2_score(y_test, y_test_pred)\n",
    "\n",
    "print(\"Train RMSE:\", train_rmse)\n",
    "print(\"Test RMSE:\", test_rmse)\n",
    "print(\"R-squared:\", r2)"
   ]
  },
  {
   "cell_type": "code",
   "execution_count": null,
   "id": "4c27665f",
   "metadata": {},
   "outputs": [],
   "source": []
  }
 ],
 "metadata": {
  "kernelspec": {
   "display_name": "Python 3 (ipykernel)",
   "language": "python",
   "name": "python3"
  },
  "language_info": {
   "codemirror_mode": {
    "name": "ipython",
    "version": 3
   },
   "file_extension": ".py",
   "mimetype": "text/x-python",
   "name": "python",
   "nbconvert_exporter": "python",
   "pygments_lexer": "ipython3",
   "version": "3.9.13"
  }
 },
 "nbformat": 4,
 "nbformat_minor": 5
}
