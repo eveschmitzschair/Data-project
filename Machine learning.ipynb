{
 "cells": [
  {
   "cell_type": "markdown",
   "id": "fe13149f",
   "metadata": {},
   "source": [
    "# Part 3: Machine learning"
   ]
  },
  {
   "cell_type": "markdown",
   "id": "0f6401b1",
   "metadata": {},
   "source": [
    "## Classification to predict the price of museums in a region"
   ]
  },
  {
   "cell_type": "code",
   "execution_count": 1,
   "id": "31357af0",
   "metadata": {},
   "outputs": [],
   "source": [
    "import numpy as np\n",
    "import pandas as pd\n",
    "pd.set_option('display.max_columns', None)\n",
    "\n",
    "from sklearn.preprocessing import StandardScaler, OneHotEncoder, MinMaxScaler, OrdinalEncoder\n",
    "from sklearn.model_selection import GridSearchCV, KFold, train_test_split\n",
    "from sklearn.linear_model import LogisticRegression, LogisticRegressionCV\n",
    "from sklearn.pipeline import Pipeline\n",
    "from sklearn.metrics import roc_curve, roc_auc_score, classification_report, accuracy_score, confusion_matrix \n",
    "\n",
    "import seaborn as sns\n",
    "import matplotlib.pyplot as plt"
   ]
  },
  {
   "cell_type": "markdown",
   "id": "f77ddaa9",
   "metadata": {},
   "source": [
    "Load data"
   ]
  },
  {
   "cell_type": "code",
   "execution_count": 6,
   "id": "cbc74e44",
   "metadata": {},
   "outputs": [
    {
     "data": {
      "text/html": [
       "<div>\n",
       "<style scoped>\n",
       "    .dataframe tbody tr th:only-of-type {\n",
       "        vertical-align: middle;\n",
       "    }\n",
       "\n",
       "    .dataframe tbody tr th {\n",
       "        vertical-align: top;\n",
       "    }\n",
       "\n",
       "    .dataframe thead th {\n",
       "        text-align: right;\n",
       "    }\n",
       "</style>\n",
       "<table border=\"1\" class=\"dataframe\">\n",
       "  <thead>\n",
       "    <tr style=\"text-align: right;\">\n",
       "      <th></th>\n",
       "      <th>Name</th>\n",
       "      <th>Type</th>\n",
       "      <th>City</th>\n",
       "      <th>Visiting time</th>\n",
       "      <th>Adults</th>\n",
       "      <th>Children</th>\n",
       "      <th>Latitude</th>\n",
       "      <th>Longitude</th>\n",
       "    </tr>\n",
       "  </thead>\n",
       "  <tbody>\n",
       "    <tr>\n",
       "      <th>0</th>\n",
       "      <td>Récréalle Centre Récréatif</td>\n",
       "      <td>recreational</td>\n",
       "      <td>Alle-sur-Semois</td>\n",
       "      <td>Not Available</td>\n",
       "      <td>NaN</td>\n",
       "      <td>NaN</td>\n",
       "      <td>49.842121</td>\n",
       "      <td>4.972678</td>\n",
       "    </tr>\n",
       "    <tr>\n",
       "      <th>1</th>\n",
       "      <td>Château de Jehay</td>\n",
       "      <td>cultural</td>\n",
       "      <td>Amay</td>\n",
       "      <td>1h</td>\n",
       "      <td>5</td>\n",
       "      <td>3</td>\n",
       "      <td>50.549776</td>\n",
       "      <td>5.324099</td>\n",
       "    </tr>\n",
       "    <tr>\n",
       "      <th>2</th>\n",
       "      <td>Espace muséal d'Andenne - Le Phare</td>\n",
       "      <td>cultural</td>\n",
       "      <td>Andenne</td>\n",
       "      <td>1h30 à 2h00</td>\n",
       "      <td>8</td>\n",
       "      <td>0</td>\n",
       "      <td>50.489398</td>\n",
       "      <td>5.096547</td>\n",
       "    </tr>\n",
       "    <tr>\n",
       "      <th>3</th>\n",
       "      <td>Les Jardins d'eau d'Annevoie</td>\n",
       "      <td>natural</td>\n",
       "      <td>Annevoie</td>\n",
       "      <td>1h30</td>\n",
       "      <td>10</td>\n",
       "      <td>6</td>\n",
       "      <td>50.341611</td>\n",
       "      <td>4.838456</td>\n",
       "    </tr>\n",
       "    <tr>\n",
       "      <th>4</th>\n",
       "      <td>Dinant Evasion - Lesse kayaks</td>\n",
       "      <td>recreational</td>\n",
       "      <td>Anseremme (Dinant)</td>\n",
       "      <td>5h (21 km) • 2h30 (12 km) • 2h00 (9 km)</td>\n",
       "      <td>NaN</td>\n",
       "      <td>NaN</td>\n",
       "      <td>50.237910</td>\n",
       "      <td>4.907923</td>\n",
       "    </tr>\n",
       "  </tbody>\n",
       "</table>\n",
       "</div>"
      ],
      "text/plain": [
       "                                 Name          Type                City  \\\n",
       "0          Récréalle Centre Récréatif  recreational     Alle-sur-Semois   \n",
       "1                    Château de Jehay      cultural                Amay   \n",
       "2  Espace muséal d'Andenne - Le Phare      cultural             Andenne   \n",
       "3        Les Jardins d'eau d'Annevoie       natural            Annevoie   \n",
       "4       Dinant Evasion - Lesse kayaks  recreational  Anseremme (Dinant)   \n",
       "\n",
       "                             Visiting time Adults Children   Latitude  \\\n",
       "0                            Not Available    NaN      NaN  49.842121   \n",
       "1                                       1h      5        3  50.549776   \n",
       "2                              1h30 à 2h00      8        0  50.489398   \n",
       "3                                     1h30     10        6  50.341611   \n",
       "4  5h (21 km) • 2h30 (12 km) • 2h00 (9 km)    NaN      NaN  50.237910   \n",
       "\n",
       "   Longitude  \n",
       "0   4.972678  \n",
       "1   5.324099  \n",
       "2   5.096547  \n",
       "3   4.838456  \n",
       "4   4.907923  "
      ]
     },
     "execution_count": 6,
     "metadata": {},
     "output_type": "execute_result"
    }
   ],
   "source": [
    "df=pd.read_excel(\"webscraping.xlsx\")\n",
    "df.head()"
   ]
  },
  {
   "cell_type": "code",
   "execution_count": null,
   "id": "4a692682",
   "metadata": {},
   "outputs": [],
   "source": []
  }
 ],
 "metadata": {
  "kernelspec": {
   "display_name": "Python 3 (ipykernel)",
   "language": "python",
   "name": "python3"
  },
  "language_info": {
   "codemirror_mode": {
    "name": "ipython",
    "version": 3
   },
   "file_extension": ".py",
   "mimetype": "text/x-python",
   "name": "python",
   "nbconvert_exporter": "python",
   "pygments_lexer": "ipython3",
   "version": "3.9.13"
  }
 },
 "nbformat": 4,
 "nbformat_minor": 5
}
